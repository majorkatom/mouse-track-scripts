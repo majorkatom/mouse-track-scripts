{
 "cells": [
  {
   "cell_type": "code",
   "execution_count": 1,
   "metadata": {},
   "outputs": [],
   "source": [
    "import csv\n",
    "import ast\n",
    "import random\n",
    "import statistics as st\n",
    "from IPython.display import display, HTML\n",
    "import matplotlib.pyplot as plt\n",
    "from matplotlib import animation\n",
    "from matplotlib.patches import Rectangle\n",
    "import numpy as np"
   ]
  },
  {
   "cell_type": "code",
   "execution_count": 2,
   "metadata": {},
   "outputs": [
    {
     "name": "stdout",
     "output_type": "stream",
     "text": [
      "Adatok száma:\n",
      "\tEmberek:\n",
      "\t\tJó adatok száma: 56\n",
      "\t\tRossz adatok száma: 20\n",
      "\t\tegér (összesből): 39\n",
      "\t\térintőpárna (összesből): 9\n",
      "\t\ttrackball (összesből): 0\n",
      "\t\tnincs megadva beviteli eszköz (összesből): 28\n",
      "\tBotok:\n",
      "\t\tJó adatok száma: 77\n",
      "\t\tRossz adatok száma: 0\n",
      "\t\tghost-cursor: 77\n",
      "\t------------------------------------\n",
      "\tÖsszesen: 153\n"
     ]
    }
   ],
   "source": [
    "tile_records = []\n",
    "with open('tiles.csv', newline='') as tiles_csv:\n",
    "    csv_reader = csv.reader(tiles_csv, delimiter=';')\n",
    "    for row in csv_reader:\n",
    "        tile_records.append({'id': row[0], 'visitor': row[1], 'typ': row[2], 'date': row[3], 'data': ast.literal_eval(row[4])})\n",
    "        \n",
    "tile_humans = []\n",
    "tile_h_mouse = []\n",
    "tile_h_touchpad = []\n",
    "tile_h_trackball = []\n",
    "tile_bots = []\n",
    "tile_b_gc = []  # ghost-cursor\n",
    "no_input_type = 0\n",
    "idx = 0\n",
    "while idx < len(tile_records):\n",
    "    record = tile_records[idx]\n",
    "    if record['visitor'] == 'human':\n",
    "        if record['data']['positions'][0]['x'] == 0:\n",
    "            tile_records.remove(record)\n",
    "        else:\n",
    "            tile_humans.append(record)\n",
    "            idx += 1\n",
    "            if record['typ'] == 'mouse':\n",
    "                tile_h_mouse.append(record)\n",
    "            elif record['typ'] == 'touchpad':\n",
    "                tile_h_touchpad.append(record)\n",
    "            elif record['typ'] == 'trackball':\n",
    "                tile_h_trackball.append(record)\n",
    "            else:\n",
    "                no_input_type += 1\n",
    "    else:\n",
    "        tile_bots.append(record)\n",
    "        idx += 1\n",
    "        if record['typ'] == 'ghost-cursor':\n",
    "            tile_b_gc.append(record)\n",
    "            \n",
    "            \n",
    "def check_data(data_list):\n",
    "    not_valid_idxs = []\n",
    "    for idx, data in enumerate(data_list):\n",
    "        last_click_time = data['data']['tileClicks'][-1]['time']\n",
    "        if last_click_time/20 > len(data['data']['positions']) + 2:\n",
    "            not_valid_idxs.append(idx)\n",
    "    return not_valid_idxs\n",
    "\n",
    "\n",
    "bad_h_idxs = check_data(tile_humans)\n",
    "bad_humans = [tile_humans[badidx] for badidx in bad_h_idxs]\n",
    "tile_humans = [tile_humans[idx] for idx, human in enumerate(tile_humans) if idx not in bad_h_idxs]\n",
    "\n",
    "bad_b_idxs = check_data(tile_bots)\n",
    "bad_bots = [tile_bots[badidx] for badidx in bad_b_idxs]\n",
    "tile_bots = [tile_bots[idx] for idx, bot in enumerate(tile_bots) if idx not in bad_b_idxs]\n",
    "            \n",
    "print('Adatok száma:')\n",
    "print('\\tEmberek:')\n",
    "print('\\t\\tJó adatok száma:', len(tile_humans))\n",
    "print('\\t\\tRossz adatok száma:', len(bad_humans))\n",
    "print('\\t\\tegér (összesből):', len(tile_h_mouse))\n",
    "print('\\t\\térintőpárna (összesből):', len(tile_h_touchpad))\n",
    "print('\\t\\ttrackball (összesből):', len(tile_h_trackball))\n",
    "print('\\t\\tnincs megadva beviteli eszköz (összesből):', no_input_type)\n",
    "print('\\tBotok:')\n",
    "print('\\t\\tJó adatok száma:', len(tile_bots))\n",
    "print('\\t\\tRossz adatok száma:', len(bad_bots))\n",
    "print('\\t\\tghost-cursor:', len(tile_b_gc))\n",
    "print('\\t------------------------------------')\n",
    "print('\\tÖsszesen:', len(tile_records))"
   ]
  },
  {
   "cell_type": "code",
   "execution_count": 3,
   "metadata": {},
   "outputs": [],
   "source": [
    "# ember csoportoknak megfelelő számosságú adatsorok a botokból\n",
    "\n",
    "tile_bots_56 = random.sample(tile_bots, 56)\n",
    "tile_bots_20 = [bot for bot in tile_bots if bot not in tile_bots_56][:-1]"
   ]
  },
  {
   "cell_type": "code",
   "execution_count": 4,
   "metadata": {},
   "outputs": [],
   "source": [
    "# egérmozgás animálása\n",
    "\n",
    "def animate_path(toanim, save_with=''):\n",
    "    thisx = np.array([pos['x'] for pos in toanim['data']['positions']])\n",
    "    thisy = np.array([pos['y'] for pos in toanim['data']['positions']])\n",
    "    tiledim = [toanim['data']['tileDimensions']['width'], toanim['data']['tileDimensions']['height']]\n",
    "    fig, ax = plt.subplots()\n",
    "    fig.set_size_inches((6, 6))\n",
    "    fig.set_tight_layout(True)\n",
    "    ax.set_aspect('equal')\n",
    "    \n",
    "    clicks = toanim['data']['tileClicks']\n",
    "    clicktimes = [click['time'] for click in clicks]\n",
    "    clickposes = [click['clickPos'] for click in clicks]\n",
    "    \n",
    "    xlim_lo = min(min(thisx),min([click['tilePos']['x'] for click in clicks])) - tiledim[0]/5\n",
    "    xlim_up = max(max(thisx),max([click['tilePos']['x'] + tiledim[0] for click in clicks]))\\\n",
    "              + tiledim[0]/5\n",
    "    \n",
    "    ylim_lo = -max(max(thisy), max([click['tilePos']['y'] + tiledim[1] for click in clicks]))\\\n",
    "              - tiledim[1]/5\n",
    "    ylim_up = -min(min(thisy), min([click['tilePos']['y'] for click in clicks])) + tiledim[1]/5\n",
    "\n",
    "    ax.set_xlim((xlim_lo, xlim_up))\n",
    "    ax.set_ylim((ylim_lo, ylim_up))\n",
    "    \n",
    "    ax.xaxis.set_visible(False)\n",
    "    ax.yaxis.set_visible(False)\n",
    "\n",
    "    path, = ax.plot([], [], lw=3, color='r', zorder=1)\n",
    "    cursor, = ax.plot([], [], 'o', markersize=6, color='r', zorder=1)\n",
    "    \n",
    "    for tile in clicks:\n",
    "        ax.add_patch((Rectangle((tile['tilePos']['x'], -tile['tilePos']['y']),\\\n",
    "                               tiledim[0], -tiledim[1], color='0.8', zorder=0)))\n",
    "\n",
    "\n",
    "    def animate(frame):\n",
    "        if len(clicktimes) and frame > clicktimes[0]/20:\n",
    "            ax.plot(clickposes[len(clickposes)-len(clicktimes)]['x'], -clickposes[len(clickposes)-len(clicktimes)]['y'], \\\n",
    "                    'o', markersize=9, color='b', zorder=2)\n",
    "            clicktimes.pop(0)\n",
    "        \n",
    "        if frame < len(thisx):\n",
    "            pathx = []\n",
    "            pathy = []\n",
    "            if frame < 6:\n",
    "                linecount = frame\n",
    "            else:\n",
    "                linecount = 6\n",
    "            for i in range(linecount):\n",
    "                pathx.append(thisx[frame-i])\n",
    "                pathy.append(-thisy[frame-i])\n",
    "                path.set_data(pathx, pathy)\n",
    "\n",
    "            cursorx = pathx[0] if pathx else thisx[0]\n",
    "            cursory = pathy[0] if pathy else -thisy[0]\n",
    "            cursor.set_data(cursorx, cursory)\n",
    "        else:\n",
    "            path.set_data([], [])\n",
    "            \n",
    "        return path, cursor\n",
    "        \n",
    "        \n",
    "    framenum = max(len(thisx), int(max(clicktimes)/20)) + 50\n",
    "    ani = animation.FuncAnimation(fig, animate, frames=framenum, interval=20, blit=True)\n",
    "    plt.close()\n",
    "    display(HTML(ani.to_html5_video()))\n",
    "    \n",
    "    ax.clear()\n",
    "    ax.set_xlim((xlim_lo, xlim_up))\n",
    "    ax.set_ylim((ylim_lo, ylim_up))\n",
    "    \n",
    "    clicktimes = [click['time'] for click in clicks]\n",
    "    \n",
    "    path, = ax.plot([], [], lw=3, color='r', zorder=1)\n",
    "    cursor, = ax.plot([], [], 'o', markersize=6, color='r', zorder=1)\n",
    "    \n",
    "    for tile in clicks:\n",
    "        ax.add_patch((Rectangle((tile['tilePos']['x'], -tile['tilePos']['y']),\\\n",
    "                               tiledim[0], -tiledim[1], color='0.8', zorder=0)))\n",
    "        \n",
    "    if save_with:\n",
    "        ani.save(save_with,'ffmpeg')"
   ]
  },
  {
   "cell_type": "markdown",
   "metadata": {},
   "source": [
    "# 1. Mousemove eventek"
   ]
  },
  {
   "cell_type": "code",
   "execution_count": 5,
   "metadata": {},
   "outputs": [
    {
     "name": "stdout",
     "output_type": "stream",
     "text": [
      "Mousemove eventek:\n",
      "\n",
      "\tEmberek:\n",
      "\t\tmax: 862\n",
      "\t\tmin: 110\n",
      "\t\tátlag: 207.66071428571428\n",
      "\t\tmedián: 187.0\n",
      "\t\tkorrigált tapasztalati szórás: 110.90360708712349\n",
      "\t\tkvantilisek: [158.  187.  220.5]\n",
      "\t-----------------------------------------------------\n",
      "\tBotok:\n",
      "\t\tmax: 765\n",
      "\t\tmin: 354\n",
      "\t\tátlag: 516.5714285714286\n",
      "\t\tmedián: 511.0\n",
      "\t\tkorrigált tapasztalati szórás: 76.40201262052939\n",
      "\t\tkvantilisek: [464.75 511.   552.  ]\n"
     ]
    },
    {
     "data": {
      "image/png": "[encoded data removed]",
      "text/plain": [
       "<Figure size 720x288 with 2 Axes>"
      ]
     },
     "metadata": {
      "needs_background": "light"
     },
     "output_type": "display_data"
    }
   ],
   "source": [
    "def print_stats(data_array, print_mean=True, num_of_tabs=0):\n",
    "    print(num_of_tabs*'\\t' + f'max: {np.amax(data_array)}')\n",
    "    print(num_of_tabs*'\\t' + f'min: {np.amin(data_array)}')\n",
    "    if print_mean:\n",
    "        print(num_of_tabs*'\\t' + f'átlag: {np.mean(data_array)}')\n",
    "    print(num_of_tabs*'\\t' + f'medián: {np.median(data_array)}')\n",
    "    print(num_of_tabs*'\\t' + f'korrigált tapasztalati szórás: {np.std(data_array, ddof=1)}')\n",
    "    print(num_of_tabs*'\\t' + f'kvantilisek: {np.quantile(data_array, [0.25, 0.5, 0.75])}')\n",
    "    \n",
    "def print_h_and_b(h_data_array, b_data_array, title, print_mean=True, before_h='', before_b='', after_h='', after_b=''):\n",
    "    print(title +'\\n')\n",
    "    print('\\tEmberek:')\n",
    "    if before_h:\n",
    "        print(before_h)\n",
    "    print_stats(h_data_array, print_mean=print_mean, num_of_tabs=2)\n",
    "    if after_h:\n",
    "        print(after_h)\n",
    "    print('\\t-----------------------------------------------------')\n",
    "    print('\\tBotok:')\n",
    "    if before_h:\n",
    "        print(before_b)\n",
    "    print_stats(b_data_array, print_mean=print_mean, num_of_tabs=2)\n",
    "    if after_b:\n",
    "        print(after_b)\n",
    "        \n",
    "def h_and_b_hist(h_data_array, b_data_array, title, xlabel='', bins=20):\n",
    "    fig, axs = plt.subplots(1, 2, sharey=True, tight_layout=True)\n",
    "    fig.suptitle(title, fontsize=14)\n",
    "    fig.set_figwidth(10)\n",
    "    \n",
    "    if xlabel:\n",
    "        axs[0].set_xlabel(xlabel)\n",
    "        axs[1].set_xlabel(xlabel)\n",
    "\n",
    "    mm_ev_hist_h = axs[0]\n",
    "    mm_ev_hist_h.hist(h_data_array, bins=bins)\n",
    "    mm_ev_hist_h.set_title('Emberek')\n",
    "\n",
    "    mm_ev_hist_b = axs[1]\n",
    "    mm_ev_hist_b.hist(b_data_array, bins=bins)\n",
    "    mm_ev_hist_b.set_title('Botok')\n",
    "\n",
    "mm_events_h = [human['data']['mouseMoveEvents'] for human in tile_humans]\n",
    "mm_events_b = [bot['data']['mouseMoveEvents'] for bot in tile_bots_56]\n",
    "\n",
    "print_h_and_b(mm_events_h, mm_events_b, 'Mousemove eventek:')\n",
    "h_and_b_hist(mm_events_h, mm_events_b, 'Mousemove event hisztogramok', 'db')"
   ]
  },
  {
   "cell_type": "code",
   "execution_count": 6,
   "metadata": {},
   "outputs": [
    {
     "name": "stdout",
     "output_type": "stream",
     "text": [
      "Mousemove eventek a kiugró adatok eltávolítása után:\n",
      "\n",
      "\tEmberek:\n",
      "\t\teltávolított adatok száma: 2\n",
      "\t\tmax: 371\n",
      "\t\tmin: 110\n",
      "\t\tátlag: 189.37037037037038\n",
      "\t\tmedián: 185.0\n",
      "\t\tkorrigált tapasztalati szórás: 47.41200241969477\n",
      "\t\tkvantilisek: [158.   185.   210.75]\n",
      "\t-----------------------------------------------------\n",
      "\tBotok:\n",
      "\t\teltávolított adatok száma: 0\n",
      "\t\tmax: 765\n",
      "\t\tmin: 354\n",
      "\t\tátlag: 516.5714285714286\n",
      "\t\tmedián: 511.0\n",
      "\t\tkorrigált tapasztalati szórás: 76.40201262052939\n",
      "\t\tkvantilisek: [464.75 511.   552.  ]\n"
     ]
    },
    {
     "data": {
      "image/png": "[encoded data removed]",
      "text/plain": [
       "<Figure size 720x288 with 2 Axes>"
      ]
     },
     "metadata": {
      "needs_background": "light"
     },
     "output_type": "display_data"
    }
   ],
   "source": [
    "# mousemove event adatsorok kiugró értékeinek eltávolítása\n",
    "\n",
    "mm_events_h_corr = [mm_event for mm_event in mm_events_h if mm_event < 500]\n",
    "mm_events_b_corr = mm_events_b\n",
    "\n",
    "print_h_and_b(mm_events_h_corr, mm_events_b_corr, 'Mousemove eventek a kiugró adatok eltávolítása után:',\\\n",
    "            before_h=f'\\t\\teltávolított adatok száma: {len(mm_events_h) - len(mm_events_h_corr)}',\\\n",
    "            before_b=f'\\t\\teltávolított adatok száma: {len(mm_events_b) - len(mm_events_b_corr)}')\n",
    "\n",
    "h_and_b_hist(mm_events_h_corr, mm_events_b_corr, 'Mousemouve event hisztogramok a kiugró adatok eltávolítása után', 'db')"
   ]
  },
  {
   "cell_type": "markdown",
   "metadata": {},
   "source": [
    "# 2. Sebességek"
   ]
  },
  {
   "cell_type": "markdown",
   "metadata": {},
   "source": [
    "## 2.1. Max sebességek"
   ]
  },
  {
   "cell_type": "code",
   "execution_count": 7,
   "metadata": {},
   "outputs": [
    {
     "name": "stdout",
     "output_type": "stream",
     "text": [
      "Max sebességek (vp%/s)\n",
      "\n",
      "\tEmberek:\n",
      "\t\tmax: 1300.735552521509\n",
      "\t\tmin: 298.8421053575906\n",
      "\t\tátlag: 739.9345967171432\n",
      "\t\tmedián: 713.4003801343968\n",
      "\t\tkorrigált tapasztalati szórás: 226.13208340692609\n",
      "\t\tkvantilisek: [582.88124229 713.40038013 870.72440257]\n",
      "\t-----------------------------------------------------\n",
      "\tBotok:\n",
      "\t\tmax: 1122.81502247482\n",
      "\t\tmin: 193.54633475758945\n",
      "\t\tátlag: 497.4732128667143\n",
      "\t\tmedián: 437.20974113071316\n",
      "\t\tkorrigált tapasztalati szórás: 233.08672306349334\n",
      "\t\tkvantilisek: [309.73656588 437.20974113 600.68335768]\n"
     ]
    },
    {
     "data": {
      "image/png": "[encoded data removed]",
      "text/plain": [
       "<Figure size 720x288 with 2 Axes>"
      ]
     },
     "metadata": {
      "needs_background": "light"
     },
     "output_type": "display_data"
    }
   ],
   "source": [
    "def norm_pos(pos, viewport):\n",
    "    return {'x': pos['x']/viewport['width'] * 100, 'y': pos['y']/viewport['height'] * 100}\n",
    "\n",
    "def calculate_distance(pos1, pos2, normed=True, viewport={}):\n",
    "    if normed:\n",
    "        pos1_normed = norm_pos(pos1, viewport)\n",
    "        pos2_normed = norm_pos(pos2, viewport)\n",
    "        return ((pos1_normed['x'] - pos2_normed['x'])**2 + (pos1_normed['y'] - pos2_normed['y'])**2)**0.5\n",
    "    else:\n",
    "        return ((pos1['x'] - pos2['x'])**2 + (pos1['y'] - pos2['y'])**2)**0.5\n",
    "\n",
    "\n",
    "def calculate_vel(poslist, normed=True, viewport={}, timediv=0.02):\n",
    "    i = 0\n",
    "    vel_list = []\n",
    "    while i < len(poslist) - 1:\n",
    "        vel_list.append(calculate_distance(poslist[i], poslist[i + 1], normed=normed, viewport=viewport)/timediv)\n",
    "        i += 1\n",
    "    return vel_list\n",
    "\n",
    "\n",
    "human_vels = [calculate_vel(human['data']['positions'], viewport=human['data']['viewport']) for human in tile_humans]\n",
    "bot_vels = [calculate_vel(bot['data']['positions'], viewport=bot['data']['viewport']) for bot in tile_bots_56]\n",
    "\n",
    "max_h_vels = [max(human_vel) for human_vel in human_vels]\n",
    "max_b_vels = [max(bot_vel) for bot_vel in bot_vels]\n",
    "\n",
    "print_h_and_b(max_h_vels, max_b_vels, 'Max sebességek (vp%/s)')\n",
    "h_and_b_hist(max_h_vels, max_b_vels, 'Max sebesség hisztogramok', 'vp%/s')"
   ]
  },
  {
   "cell_type": "code",
   "execution_count": 8,
   "metadata": {},
   "outputs": [
    {
     "name": "stdout",
     "output_type": "stream",
     "text": [
      "Max sebességek a kiugró adatok eltávolítása után (vp%/s)\n",
      "\n",
      "\tEmberek:\n",
      "\t\teltávolított adatok száma: 0\n",
      "\t\tmax: 1300.735552521509\n",
      "\t\tmin: 298.8421053575906\n",
      "\t\tátlag: 739.9345967171432\n",
      "\t\tmedián: 713.4003801343968\n",
      "\t\tkorrigált tapasztalati szórás: 226.13208340692609\n",
      "\t\tkvantilisek: [582.88124229 713.40038013 870.72440257]\n",
      "\t-----------------------------------------------------\n",
      "\tBotok:\n",
      "\t\teltávolított adatok száma: 0\n",
      "\t\tmax: 1122.81502247482\n",
      "\t\tmin: 193.54633475758945\n",
      "\t\tátlag: 497.4732128667143\n",
      "\t\tmedián: 437.20974113071316\n",
      "\t\tkorrigált tapasztalati szórás: 233.08672306349334\n",
      "\t\tkvantilisek: [309.73656588 437.20974113 600.68335768]\n"
     ]
    },
    {
     "data": {
      "image/png": "[encoded data removed]",
      "text/plain": [
       "<Figure size 720x288 with 2 Axes>"
      ]
     },
     "metadata": {
      "needs_background": "light"
     },
     "output_type": "display_data"
    }
   ],
   "source": [
    "# max sebesség adatsorok kiugró értékeinek eltávolítása\n",
    "\n",
    "max_h_vels_corr = max_h_vels\n",
    "max_b_vels_corr = [max_vel for max_vel in max_b_vels if max_vel < 1500]\n",
    "\n",
    "print_h_and_b(max_h_vels_corr, max_b_vels_corr, 'Max sebességek a kiugró adatok eltávolítása után (vp%/s)',\\\n",
    "            before_h=f'\\t\\teltávolított adatok száma: {len(max_h_vels) - len(max_h_vels_corr)}',\\\n",
    "            before_b=f'\\t\\teltávolított adatok száma: {len(max_b_vels) - len(max_b_vels_corr)}')\n",
    "\n",
    "h_and_b_hist(max_h_vels_corr, max_b_vels_corr, 'Max sebesség hisztogramok a kiugró adatok eltávolítása után', 'vp%/s')"
   ]
  },
  {
   "cell_type": "markdown",
   "metadata": {},
   "source": [
    "## 2.2. Átlag sebességek"
   ]
  },
  {
   "cell_type": "code",
   "execution_count": 9,
   "metadata": {},
   "outputs": [
    {
     "name": "stdout",
     "output_type": "stream",
     "text": [
      "Átlag sebességek (vp%/s)\n",
      "\n",
      "\tEmberek:\n",
      "\t\tmax: 95.55711269784203\n",
      "\t\tmin: 21.156678004297135\n",
      "\t\tmedián: 58.058088217791976\n",
      "\t\tkorrigált tapasztalati szórás: 18.07113862667833\n",
      "\t\tkvantilisek: [45.84686603 58.05808822 71.05169841]\n",
      "\t\tAz összes emberre számolt átlag sebesség: 52.82326739297918\n",
      "\t-----------------------------------------------------\n",
      "\tBotok:\n",
      "\t\tmax: 29.23478073127341\n",
      "\t\tmin: 15.629108629532347\n",
      "\t\tmedián: 21.887466597679982\n",
      "\t\tkorrigált tapasztalati szórás: 3.056511994100126\n",
      "\t\tkvantilisek: [20.19927042 21.8874666  24.30352531]\n",
      "\t\tAz összes botra számolt átlag sebesség: 22.038325903027218\n"
     ]
    },
    {
     "data": {
      "image/png": "[encoded data removed]",
      "text/plain": [
       "<Figure size 720x288 with 2 Axes>"
      ]
     },
     "metadata": {
      "needs_background": "light"
     },
     "output_type": "display_data"
    }
   ],
   "source": [
    "avg_h_vels = [st.mean(human_vel) for human_vel in human_vels]\n",
    "avg_b_vels = [st.mean(bot_vel) for bot_vel in bot_vels]\n",
    "\n",
    "h_vel_num = 0\n",
    "avg_h_vel_all = 0\n",
    "for all_vels, avg_vel in zip(human_vels, avg_h_vels):\n",
    "    h_vel_num += len(all_vels)\n",
    "    avg_h_vel_all += avg_vel * len(all_vels)\n",
    "avg_h_vel_all /= h_vel_num\n",
    "\n",
    "b_vel_num = 0\n",
    "avg_b_vel_all = 0\n",
    "for all_vels, avg_vel in zip(bot_vels, avg_b_vels):\n",
    "    b_vel_num += len(all_vels)\n",
    "    avg_b_vel_all += avg_vel * len(all_vels)\n",
    "avg_b_vel_all /= b_vel_num\n",
    "    \n",
    "\n",
    "print_h_and_b(avg_h_vels, avg_b_vels, 'Átlag sebességek (vp%/s)', print_mean=False,\\\n",
    "            after_h=f'\\t\\tAz összes emberre számolt átlag sebesség: {avg_h_vel_all}',\\\n",
    "            after_b=f'\\t\\tAz összes botra számolt átlag sebesség: {avg_b_vel_all}')\n",
    "\n",
    "h_and_b_hist(avg_h_vels, avg_b_vels, 'Átlag sebesség hisztogramok', 'vp%/s')"
   ]
  },
  {
   "cell_type": "markdown",
   "metadata": {},
   "source": [
    "# 3. A pálya hatékonysága"
   ]
  },
  {
   "cell_type": "code",
   "execution_count": 10,
   "metadata": {},
   "outputs": [
    {
     "name": "stdout",
     "output_type": "stream",
     "text": [
      "Az egérmozgások hatékonysága (%)\n",
      "\n",
      "\tEmberek:\n",
      "\t\tmax: 99.76796827532992\n",
      "\t\tmin: 79.86971857082808\n",
      "\t\tátlag: 94.82641113088592\n",
      "\t\tmedián: 96.06900169280908\n",
      "\t\tkorrigált tapasztalati szórás: 4.445440810180142\n",
      "\t\tkvantilisek: [92.01568361 96.06900169 98.54960678]\n",
      "\t-----------------------------------------------------\n",
      "\tBotok:\n",
      "\t\tmax: 98.7344541213854\n",
      "\t\tmin: 77.23937540772204\n",
      "\t\tátlag: 88.9845251784354\n",
      "\t\tmedián: 89.25126231413843\n",
      "\t\tkorrigált tapasztalati szórás: 4.3444438026509005\n",
      "\t\tkvantilisek: [86.26764829 89.25126231 91.11225266]\n"
     ]
    },
    {
     "data": {
      "image/png": "[encoded data removed]",
      "text/plain": [
       "<Figure size 720x288 with 2 Axes>"
      ]
     },
     "metadata": {
      "needs_background": "light"
     },
     "output_type": "display_data"
    }
   ],
   "source": [
    "# az elmozdulás és a megtett távolság arányából számoljuk\n",
    "\n",
    "def calculate_efficiency(pos_list, start_point, end_point, viewport):\n",
    "    displacement = calculate_distance(start_point, end_point, viewport=viewport)\n",
    "    traveled_dist = []\n",
    "    i = 0\n",
    "    while i < len(pos_list)-1:\n",
    "        traveled_dist.append(calculate_distance(pos_list[i], pos_list[i+1],viewport=viewport))\n",
    "        i += 1\n",
    "    return displacement/sum(traveled_dist) * 100\n",
    "\n",
    "\n",
    "\n",
    "eff_per_h = []\n",
    "for human in tile_humans:\n",
    "    viewport_h = human['data']['viewport']\n",
    "    clicks_h = [click for click in human['data']['tileClicks']]\n",
    "    pos_h = human['data']['positions']\n",
    "    i = 0\n",
    "    eff_per_click = []\n",
    "    while i < len(clicks_h) - 1:\n",
    "        first_click = clicks_h[i]\n",
    "        second_click = clicks_h[i+1]\n",
    "        pos_bw_clicks = pos_h[int(first_click['time']/20):int(second_click['time']/20)]\n",
    "        eff_per_click.append(calculate_efficiency(pos_bw_clicks, first_click['clickPos'], second_click['clickPos'], viewport=viewport_h))\n",
    "        i+=1\n",
    "    eff_per_h.append(st.mean(eff_per_click))\n",
    "    \n",
    "eff_per_b = []\n",
    "for bot in tile_bots_56:\n",
    "    viewport_b = bot['data']['viewport']\n",
    "    clicks_b = [click for click in bot['data']['tileClicks']]\n",
    "    pos_b = bot['data']['positions']\n",
    "    i = 0\n",
    "    eff_per_click = []\n",
    "    while i < len(clicks_b) - 1:\n",
    "        first_click = clicks_b[i]\n",
    "        second_click = clicks_b[i+1]\n",
    "        pos_bw_clicks = pos_b[int(first_click['time']/20):int(second_click['time']/20)]\n",
    "        eff_per_click.append(calculate_efficiency(pos_bw_clicks, first_click['clickPos'], second_click['clickPos'], viewport=viewport_b))\n",
    "        i+=1\n",
    "    eff_per_b.append(st.mean(eff_per_click))\n",
    "\n",
    "print_h_and_b(eff_per_h, eff_per_b, 'Az egérmozgások hatékonysága (%)')\n",
    "\n",
    "h_and_b_hist(eff_per_h, eff_per_b, 'Az egérmozgások hatákonyságának hisztogramja', '%')"
   ]
  },
  {
   "cell_type": "markdown",
   "metadata": {},
   "source": [
    "# 4. Kattintások átlagos távolsága a csempék középpontjától"
   ]
  },
  {
   "cell_type": "code",
   "execution_count": 11,
   "metadata": {},
   "outputs": [
    {
     "name": "stdout",
     "output_type": "stream",
     "text": [
      "A kattintások távolsága a csempék kp-jától (tile%)\n",
      "\n",
      "\tEmberek:\n",
      "\t\tmax: 31.455101082180494\n",
      "\t\tmin: 12.073334652527407\n",
      "\t\tátlag: 20.368104281906014\n",
      "\t\tmedián: 19.907541249822614\n",
      "\t\tkorrigált tapasztalati szórás: 4.083854094063353\n",
      "\t\tkvantilisek: [17.30789274 19.90754125 23.44399277]\n",
      "\t-----------------------------------------------------\n",
      "\tBotok:\n",
      "\t\tmax: 49.932589471932936\n",
      "\t\tmin: 22.244119608490262\n",
      "\t\tátlag: 38.19305266313397\n",
      "\t\tmedián: 39.2881844179883\n",
      "\t\tkorrigált tapasztalati szórás: 5.0960012675598705\n",
      "\t\tkvantilisek: [34.25103812 39.28818442 41.84856356]\n"
     ]
    },
    {
     "data": {
      "image/png": "[encoded data removed]",
      "text/plain": [
       "<Figure size 720x288 with 2 Axes>"
      ]
     },
     "metadata": {
      "needs_background": "light"
     },
     "output_type": "display_data"
    }
   ],
   "source": [
    "dist_per_h = []\n",
    "for human in tile_humans+bad_humans:\n",
    "    clicks_h = [click for click in human['data']['tileClicks']]\n",
    "    tiledims_h = human['data']['tileDimensions']\n",
    "\n",
    "    dist_per_click = []\n",
    "    for click in clicks_h:\n",
    "        center = {'x': click['tilePos']['x'] + tiledims_h['width']/2, 'y': click['tilePos']['y'] + tiledims_h['height']/2}\n",
    "        dist_per_click.append(calculate_distance(click['clickPos'], center, viewport=tiledims_h))\n",
    "    dist_per_h.append(st.mean(dist_per_click))\n",
    "    \n",
    "dist_per_b = []\n",
    "for bot in tile_bots_56+tile_bots_20:\n",
    "    clicks_b = [click for click in bot['data']['tileClicks']]\n",
    "    tiledims_b = bot['data']['tileDimensions']\n",
    "\n",
    "    dist_per_click = []\n",
    "    for click in clicks_b:\n",
    "        center = {'x': click['tilePos']['x'] + tiledims_b['width']/2, 'y': click['tilePos']['y'] + tiledims_h['height']/2}\n",
    "        dist_per_click.append(calculate_distance(click['clickPos'], center, viewport=tiledims_b))\n",
    "    dist_per_b.append(st.mean(dist_per_click))\n",
    "    \n",
    "print_h_and_b(dist_per_h, dist_per_b, 'A kattintások távolsága a csempék kp-jától (tile%)')\n",
    "\n",
    "h_and_b_hist(dist_per_h, dist_per_b, 'A kattintások távolságának hisztogramja', 'tile%')"
   ]
  },
  {
   "cell_type": "markdown",
   "metadata": {},
   "source": [
    "# 5.  Egyéb grafikus ábrázolások"
   ]
  },
  {
   "cell_type": "code",
   "execution_count": 12,
   "metadata": {},
   "outputs": [],
   "source": [
    "def plot_vel(to_plot):\n",
    "    time = [idx*0.02 for idx, pos in enumerate(to_plot['data']['positions'])][:-1]\n",
    "    plt.plot(time, calculate_vel(to_plot['data']['positions'], viewport=to_plot['data']['viewport']))\n",
    "    plt.xlabel('idő (s)')\n",
    "    plt.ylabel('sebesség (vp%/s)')"
   ]
  }
 ],
 "metadata": {
  "kernelspec": {
   "display_name": "Python 3",
   "language": "python",
   "name": "python3"
  },
  "language_info": {
   "codemirror_mode": {
    "name": "ipython",
    "version": 3
   },
   "file_extension": ".py",
   "mimetype": "text/x-python",
   "name": "python",
   "nbconvert_exporter": "python",
   "pygments_lexer": "ipython3",
   "version": "3.8.8"
  }
 },
 "nbformat": 4,
 "nbformat_minor": 4
}
