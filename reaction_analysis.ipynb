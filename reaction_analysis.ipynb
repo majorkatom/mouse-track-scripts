{
 "cells": [
  {
   "cell_type": "code",
   "execution_count": 1,
   "id": "92f116f8",
   "metadata": {},
   "outputs": [],
   "source": [
    "import csv\n",
    "import ast\n",
    "import random\n",
    "import statistics as st\n",
    "from IPython.display import display, HTML\n",
    "import matplotlib.pyplot as plt\n",
    "from matplotlib import animation\n",
    "from matplotlib.patches import Rectangle\n",
    "import numpy as np"
   ]
  },
  {
   "cell_type": "code",
   "execution_count": 2,
   "id": "5e16a0fb",
   "metadata": {},
   "outputs": [
    {
     "name": "stdout",
     "output_type": "stream",
     "text": [
      "Adatok száma:\n",
      "\tEmberek:\n",
      "\t\tJó adatok száma: 48\n",
      "\t\tRossz adatok száma: 27\n",
      "\t\tegér (összesből): 38\n",
      "\t\térintőpárna (összesből): 9\n",
      "\t\ttrackball (összesből): 0\n",
      "\t\tnincs megadva beviteli eszköz (összesből): 28\n",
      "\tBotok:\n",
      "\t\tJó adatok száma: 76\n",
      "\t\tRossz adatok száma: 1\n",
      "\t\tghost-cursor (összesből): 77\n",
      "\t------------------------------------\n",
      "\tÖsszesen: 152\n"
     ]
    }
   ],
   "source": [
    "react_records = []\n",
    "with open('reaction.csv', newline='') as react_csv:\n",
    "    csv_reader = csv.reader(react_csv, delimiter=';')\n",
    "    for row in csv_reader:\n",
    "        react_records.append({'id': row[0], 'visitor': row[1], 'typ': row[2], 'date': row[3], 'data': ast.literal_eval(row[4])})\n",
    "        \n",
    "react_humans = []\n",
    "react_h_mouse = []\n",
    "react_h_touchpad = []\n",
    "react_h_trackball = []\n",
    "react_bots = []\n",
    "react_b_gc = []  # ghost-cursor\n",
    "no_input_type = 0\n",
    "idx = 0\n",
    "while idx < len(react_records):\n",
    "    record = react_records[idx]\n",
    "    if record['visitor'] == 'human':\n",
    "        if record['data']['positions'][0]['x'] == 0 or record['id'] == '68':  # id 68-as valószínűleg az első gomb megjelenése után váltott teljes képernyőre\n",
    "            react_records.remove(record)\n",
    "        else:\n",
    "            react_humans.append(record)\n",
    "            idx += 1\n",
    "            if record['typ'] == 'mouse':\n",
    "                react_h_mouse.append(record)\n",
    "            elif record['typ'] == 'touchpad':\n",
    "                react_h_touchpad.append(record)\n",
    "            elif record['typ'] == 'trackball':\n",
    "                react_h_trackball.append(record)\n",
    "            else:\n",
    "                no_input_type += 1\n",
    "    else:\n",
    "        react_bots.append(record)\n",
    "        idx += 1\n",
    "        if record['typ'] == 'ghost-cursor':\n",
    "            react_b_gc.append(record)\n",
    "            \n",
    "def check_data(data_list):\n",
    "    not_valid_idxs = []\n",
    "    for idx, data in enumerate(data_list):\n",
    "        last_click_time = data['data']['buttonData'][-1]['click']['time']\n",
    "        if last_click_time/20 > len(data['data']['positions']) + 2:\n",
    "            not_valid_idxs.append(idx)\n",
    "    return not_valid_idxs\n",
    "\n",
    "bad_h_idxs = check_data(react_humans)\n",
    "bad_humans = [react_humans[badidx] for badidx in bad_h_idxs]\n",
    "react_humans = [react_humans[idx] for idx, human in enumerate(react_humans) if idx not in bad_h_idxs]\n",
    "\n",
    "bad_b_idxs = check_data(react_bots)\n",
    "bad_bots = [react_bots[badidx] for badidx in bad_b_idxs]\n",
    "react_bots = [react_bots[idx] for idx, bot in enumerate(react_bots) if idx not in bad_b_idxs]\n",
    "\n",
    "print('Adatok száma:')\n",
    "print('\\tEmberek:')\n",
    "print('\\t\\tJó adatok száma:', len(react_humans))\n",
    "print('\\t\\tRossz adatok száma:', len(bad_humans))\n",
    "print('\\t\\tegér (összesből):', len(react_h_mouse))\n",
    "print('\\t\\térintőpárna (összesből):', len(react_h_touchpad))\n",
    "print('\\t\\ttrackball (összesből):', len(react_h_trackball))\n",
    "print('\\t\\tnincs megadva beviteli eszköz (összesből):', no_input_type)\n",
    "print('\\tBotok:')\n",
    "print('\\t\\tJó adatok száma:', len(react_bots))\n",
    "print('\\t\\tRossz adatok száma:', len(bad_bots))\n",
    "print('\\t\\tghost-cursor (összesből):', len(react_b_gc))\n",
    "print('\\t------------------------------------')\n",
    "print('\\tÖsszesen:', len(react_records))"
   ]
  },
  {
   "cell_type": "code",
   "execution_count": 3,
   "id": "67c7f2cb",
   "metadata": {},
   "outputs": [],
   "source": [
    "# ember csoportoknak megfelelő számosságú adatsorok a botokból\n",
    "\n",
    "react_bots_48 = random.sample(react_bots, 48)\n",
    "react_bots_27 = [bot for bot in react_bots if bot not in react_bots_48][:-1]"
   ]
  },
  {
   "cell_type": "code",
   "execution_count": 4,
   "id": "396c0c8c",
   "metadata": {},
   "outputs": [],
   "source": [
    "# egérmozgás animálása\n",
    "\n",
    "def animate_path(toanim, save_with=''):\n",
    "    thisx = np.array([pos['x'] for pos in toanim['data']['positions']])\n",
    "    thisy = np.array([pos['y'] for pos in toanim['data']['positions']])\n",
    "    buttondim = [toanim['data']['buttonDimensions']['width'], toanim['data']['buttonDimensions']['height']]\n",
    "    viewport = toanim['data']['viewport']\n",
    "    fig, ax = plt.subplots()\n",
    "    fig.set_size_inches((viewport['width']/viewport['height']*6, 6))\n",
    "    fig.set_tight_layout(True)\n",
    "    ax.set_aspect('equal')\n",
    "    \n",
    "    buttons = toanim['data']['buttonData']\n",
    "    appeartimes = [button['appeared'] for button in buttons]\n",
    "    clicktimes = [button['click']['time'] for button in buttons]\n",
    "    clickposes = [{'x': button['click']['x'], 'y': button['click']['y']} for button in buttons]\n",
    "\n",
    "    ax.set_xlim((0, viewport['width']))\n",
    "    ax.set_ylim((-viewport['height'], 0))\n",
    "    \n",
    "    ax.xaxis.set_visible(False)\n",
    "    ax.yaxis.set_visible(False)\n",
    "\n",
    "    path, = ax.plot([], [], lw=3, color='r', zorder=1)\n",
    "    cursor, = ax.plot([], [], 'o', markersize=6, color='r', zorder=1)\n",
    "\n",
    "\n",
    "    def animate(frame):\n",
    "        if len(appeartimes) and frame > appeartimes[0]/20:\n",
    "            ax.add_patch((Rectangle((buttons[len(buttons)-len(appeartimes)]['buttonX'], \\\n",
    "                                     -buttons[len(buttons)-len(appeartimes)]['buttonY']),\\\n",
    "                                      buttondim[0], -buttondim[1], color='0.8', zorder=0)))\n",
    "            appeartimes.pop(0)\n",
    "        \n",
    "        if len(clicktimes) and frame > clicktimes[0]/20:\n",
    "            ax.plot(clickposes[len(clickposes)-len(clicktimes)]['x'], -clickposes[len(clickposes)-len(clicktimes)]['y'], \\\n",
    "                    'o', markersize=9, color='b', zorder=2)\n",
    "            clicktimes.pop(0)\n",
    "        \n",
    "        if frame < len(thisx):\n",
    "            pathx = []\n",
    "            pathy = []\n",
    "            if frame < 6:\n",
    "                linecount = frame\n",
    "            else:\n",
    "                linecount = 6\n",
    "            for i in range(linecount):\n",
    "                pathx.append(thisx[frame-i])\n",
    "                pathy.append(-thisy[frame-i])\n",
    "                path.set_data(pathx, pathy)\n",
    "\n",
    "            cursorx = pathx[0] if pathx else thisx[0]\n",
    "            cursory = pathy[0] if pathy else -thisy[0]\n",
    "            cursor.set_data(cursorx, cursory)\n",
    "        else:\n",
    "            path.set_data([], [])\n",
    "            \n",
    "        return path, cursor\n",
    "        \n",
    "        \n",
    "    framenum = max(len(thisx), int(max(clicktimes)/20)) + 50\n",
    "    ani = animation.FuncAnimation(fig, animate, frames=framenum, interval=20, blit=True)\n",
    "    plt.close()\n",
    "    display(HTML(ani.to_html5_video()))\n",
    "    \n",
    "    ax.clear()\n",
    "    ax.set_xlim((0, viewport['width']))\n",
    "    ax.set_ylim((-viewport['height'], 0))\n",
    "    \n",
    "    appeartimes = [button['appeared'] for button in buttons]\n",
    "    clicktimes = [button['click']['time'] for button in buttons]\n",
    "    \n",
    "    path, = ax.plot([], [], lw=3, color='r', zorder=1)\n",
    "    cursor, = ax.plot([], [], 'o', markersize=6, color='r', zorder=1)\n",
    "        \n",
    "    if save_with:\n",
    "        ani.save(save_with,'ffmpeg')"
   ]
  },
  {
   "cell_type": "markdown",
   "id": "5a03189f",
   "metadata": {},
   "source": [
    "# 1. Mousemove eventek"
   ]
  },
  {
   "cell_type": "code",
   "execution_count": 5,
   "id": "67646cbe",
   "metadata": {},
   "outputs": [
    {
     "name": "stdout",
     "output_type": "stream",
     "text": [
      "Mousemove eventek:\n",
      "\n",
      "\tEmberek:\n",
      "\t\tmax: 2160\n",
      "\t\tmin: 332\n",
      "\t\tátlag: 691.8125\n",
      "\t\tmedián: 568.5\n",
      "\t\tkorrigált tapasztalati szórás: 351.24245467779815\n",
      "\t\tkvantilisek: [482.  568.5 790. ]\n",
      "\t-----------------------------------------------------\n",
      "\tBotok:\n",
      "\t\tmax: 938\n",
      "\t\tmin: 558\n",
      "\t\tátlag: 713.0625\n",
      "\t\tmedián: 710.0\n",
      "\t\tkorrigált tapasztalati szórás: 79.1062862310992\n",
      "\t\tkvantilisek: [646.   710.   752.75]\n"
     ]
    },
    {
     "data": {
      "image/png": "[encoded data removed]",
      "text/plain": [
       "<Figure size 720x288 with 2 Axes>"
      ]
     },
     "metadata": {
      "needs_background": "light"
     },
     "output_type": "display_data"
    }
   ],
   "source": [
    "def print_stats(data_array, print_mean=True, num_of_tabs=0):\n",
    "    print(num_of_tabs*'\\t' + f'max: {np.amax(data_array)}')\n",
    "    print(num_of_tabs*'\\t' + f'min: {np.amin(data_array)}')\n",
    "    if print_mean:\n",
    "        print(num_of_tabs*'\\t' + f'átlag: {np.mean(data_array)}')\n",
    "    print(num_of_tabs*'\\t' + f'medián: {np.median(data_array)}')\n",
    "    print(num_of_tabs*'\\t' + f'korrigált tapasztalati szórás: {np.std(data_array, ddof=1)}')\n",
    "    print(num_of_tabs*'\\t' + f'kvantilisek: {np.quantile(data_array, [0.25, 0.5, 0.75])}')\n",
    "    \n",
    "def print_h_and_b(h_data_array, b_data_array, title, print_mean=True, before_h='', before_b='', after_h='', after_b=''):\n",
    "    print(title +'\\n')\n",
    "    print('\\tEmberek:')\n",
    "    if before_h:\n",
    "        print(before_h)\n",
    "    print_stats(h_data_array, print_mean=print_mean, num_of_tabs=2)\n",
    "    if after_h:\n",
    "        print(after_h)\n",
    "    print('\\t-----------------------------------------------------')\n",
    "    print('\\tBotok:')\n",
    "    if before_h:\n",
    "        print(before_b)\n",
    "    print_stats(b_data_array, print_mean=print_mean, num_of_tabs=2)\n",
    "    if after_b:\n",
    "        print(after_b)\n",
    "        \n",
    "def h_and_b_hist(h_data_array, b_data_array, title, xlabel='', bins=20):\n",
    "    fig, axs = plt.subplots(1, 2, sharey=True, tight_layout=True)\n",
    "    fig.suptitle(title, fontsize=14)\n",
    "    fig.set_figwidth(10)\n",
    "    \n",
    "    if xlabel:\n",
    "        axs[0].set_xlabel(xlabel)\n",
    "        axs[1].set_xlabel(xlabel)\n",
    "\n",
    "    mm_ev_hist_h = axs[0]\n",
    "    mm_ev_hist_h.hist(h_data_array, bins=bins)\n",
    "    mm_ev_hist_h.set_title('Emberek')\n",
    "\n",
    "    mm_ev_hist_b = axs[1]\n",
    "    mm_ev_hist_b.hist(b_data_array, bins=bins)\n",
    "    mm_ev_hist_b.set_title('Botok')\n",
    "\n",
    "mm_events_h = [human['data']['mouseMoveEvents'] for human in react_humans]\n",
    "mm_events_b = [bot['data']['mouseMoveEvents'] for bot in react_bots_48]\n",
    "\n",
    "print_h_and_b(mm_events_h, mm_events_b, 'Mousemove eventek:')\n",
    "h_and_b_hist(mm_events_h, mm_events_b, 'Mousemove event hisztogramok', 'db')"
   ]
  },
  {
   "cell_type": "code",
   "execution_count": 6,
   "id": "f443db47",
   "metadata": {},
   "outputs": [
    {
     "name": "stdout",
     "output_type": "stream",
     "text": [
      "Mousemove eventek a kiugró adatok eltávolítása után:\n",
      "\n",
      "\tEmberek:\n",
      "\t\teltávolított adatok száma: 2\n",
      "\t\tmax: 1379\n",
      "\t\tmin: 332\n",
      "\t\tátlag: 638.6304347826087\n",
      "\t\tmedián: 560.5\n",
      "\t\tkorrigált tapasztalati szórás: 238.32380947830455\n",
      "\t\tkvantilisek: [480.   560.5  762.25]\n",
      "\t-----------------------------------------------------\n",
      "\tBotok:\n",
      "\t\teltávolított adatok száma: 0\n",
      "\t\tmax: 938\n",
      "\t\tmin: 558\n",
      "\t\tátlag: 713.0625\n",
      "\t\tmedián: 710.0\n",
      "\t\tkorrigált tapasztalati szórás: 79.1062862310992\n",
      "\t\tkvantilisek: [646.   710.   752.75]\n"
     ]
    },
    {
     "data": {
      "image/png": "[encoded data removed]",
      "text/plain": [
       "<Figure size 720x288 with 2 Axes>"
      ]
     },
     "metadata": {
      "needs_background": "light"
     },
     "output_type": "display_data"
    }
   ],
   "source": [
    "# mousemove event adatsorok kiugró értékeinek eltávolítása\n",
    "\n",
    "mm_events_h_corr = [mm_event for mm_event in mm_events_h if mm_event < 1500]\n",
    "mm_events_b_corr = mm_events_b\n",
    "\n",
    "print_h_and_b(mm_events_h_corr, mm_events_b_corr, 'Mousemove eventek a kiugró adatok eltávolítása után:',\\\n",
    "            before_h=f'\\t\\teltávolított adatok száma: {len(mm_events_h) - len(mm_events_h_corr)}',\\\n",
    "            before_b=f'\\t\\teltávolított adatok száma: {len(mm_events_b) - len(mm_events_b_corr)}')\n",
    "\n",
    "h_and_b_hist(mm_events_h_corr, mm_events_b_corr, 'Mousemouve event hisztogramok a kiugró adatok eltávolítása után', 'db')"
   ]
  },
  {
   "cell_type": "markdown",
   "id": "68040f71",
   "metadata": {},
   "source": [
    "# 2. Sebességek"
   ]
  },
  {
   "cell_type": "markdown",
   "id": "594e5eb9",
   "metadata": {},
   "source": [
    "## 2.1. Max sebességek"
   ]
  },
  {
   "cell_type": "code",
   "execution_count": 7,
   "id": "01f982b2",
   "metadata": {},
   "outputs": [
    {
     "name": "stdout",
     "output_type": "stream",
     "text": [
      "Max sebességek (vp%/s)\n",
      "\n",
      "\tEmberek:\n",
      "\t\tmax: 3024.2832455505154\n",
      "\t\tmin: 504.75132767264654\n",
      "\t\tátlag: 1040.8762079776943\n",
      "\t\tmedián: 971.5793392227152\n",
      "\t\tkorrigált tapasztalati szórás: 431.1156818288514\n",
      "\t\tkvantilisek: [ 749.70601006  971.57933922 1215.68669054]\n",
      "\t-----------------------------------------------------\n",
      "\tBotok:\n",
      "\t\tmax: 1135.7294396745292\n",
      "\t\tmin: 331.9440923257106\n",
      "\t\tátlag: 634.584405796495\n",
      "\t\tmedián: 590.7864902851077\n",
      "\t\tkorrigált tapasztalati szórás: 216.93741247167924\n",
      "\t\tkvantilisek: [482.46244843 590.78649029 750.93896366]\n"
     ]
    },
    {
     "data": {
      "image/png": "[encoded data removed]",
      "text/plain": [
       "<Figure size 720x288 with 2 Axes>"
      ]
     },
     "metadata": {
      "needs_background": "light"
     },
     "output_type": "display_data"
    }
   ],
   "source": [
    "def norm_pos(pos, viewport):\n",
    "    return {'x': pos['x']/viewport['width'] * 100, 'y': pos['y']/viewport['height'] * 100}\n",
    "\n",
    "def calculate_distance(pos1, pos2, normed=True, viewport={}):\n",
    "    if normed:\n",
    "        pos1_normed = norm_pos(pos1, viewport)\n",
    "        pos2_normed = norm_pos(pos2, viewport)\n",
    "        return ((pos1_normed['x'] - pos2_normed['x'])**2 + (pos1_normed['y'] - pos2_normed['y'])**2)**0.5\n",
    "    else:\n",
    "        return ((pos1['x'] - pos2['x'])**2 + (pos1['y'] - pos2['y'])**2)**0.5\n",
    "\n",
    "\n",
    "def calculate_vel(poslist, normed=True, viewport={}, timediv=0.02):\n",
    "    i = 0\n",
    "    vel_list = []\n",
    "    while i < len(poslist) - 1:\n",
    "        vel_list.append(calculate_distance(poslist[i], poslist[i + 1], normed=normed, viewport=viewport)/timediv)\n",
    "        i += 1\n",
    "    return vel_list\n",
    "\n",
    "\n",
    "human_vels = [calculate_vel(human['data']['positions'], viewport=human['data']['viewport']) for human in react_humans]\n",
    "bot_vels = [calculate_vel(bot['data']['positions'], viewport=bot['data']['viewport']) for bot in react_bots_48]\n",
    "\n",
    "max_h_vels = [max(human_vel) for human_vel in human_vels]\n",
    "max_b_vels = [max(bot_vel) for bot_vel in bot_vels]\n",
    "\n",
    "print_h_and_b(max_h_vels, max_b_vels, 'Max sebességek (vp%/s)')\n",
    "h_and_b_hist(max_h_vels, max_b_vels, 'Max sebesség hisztogramok', 'vp%/s')"
   ]
  },
  {
   "cell_type": "code",
   "execution_count": 8,
   "id": "43c56e43",
   "metadata": {},
   "outputs": [
    {
     "name": "stdout",
     "output_type": "stream",
     "text": [
      "Max sebességek a kiugró adatok eltávolítása után (vp%/s)\n",
      "\n",
      "\tEmberek:\n",
      "\t\teltávolított adatok száma: 1\n",
      "\t\tmax: 1888.7509036395697\n",
      "\t\tmin: 504.75132767264654\n",
      "\t\tátlag: 998.6760582421025\n",
      "\t\tmedián: 962.4179756497458\n",
      "\t\tkorrigált tapasztalati szórás: 320.2529846419624\n",
      "\t\tkvantilisek: [ 749.41202012  962.41797565 1207.80118287]\n",
      "\t-----------------------------------------------------\n",
      "\tBotok:\n",
      "\t\teltávolított adatok száma: 0\n",
      "\t\tmax: 1135.7294396745292\n",
      "\t\tmin: 331.9440923257106\n",
      "\t\tátlag: 634.584405796495\n",
      "\t\tmedián: 590.7864902851077\n",
      "\t\tkorrigált tapasztalati szórás: 216.93741247167924\n",
      "\t\tkvantilisek: [482.46244843 590.78649029 750.93896366]\n"
     ]
    },
    {
     "data": {
      "image/png": "[encoded data removed]",
      "text/plain": [
       "<Figure size 720x288 with 2 Axes>"
      ]
     },
     "metadata": {
      "needs_background": "light"
     },
     "output_type": "display_data"
    }
   ],
   "source": [
    "# max sebesség adatsorok kiugró értékeinek eltávolítása\n",
    "\n",
    "max_h_vels_corr = [max_vel for max_vel in max_h_vels if max_vel < 2000]\n",
    "max_b_vels_corr = max_b_vels\n",
    "\n",
    "print_h_and_b(max_h_vels_corr, max_b_vels_corr, 'Max sebességek a kiugró adatok eltávolítása után (vp%/s)',\\\n",
    "            before_h=f'\\t\\teltávolított adatok száma: {len(max_h_vels) - len(max_h_vels_corr)}',\\\n",
    "            before_b=f'\\t\\teltávolított adatok száma: {len(max_b_vels) - len(max_b_vels_corr)}')\n",
    "\n",
    "h_and_b_hist(max_h_vels_corr, max_b_vels_corr, 'Max sebesség hisztogramok a kiugró adatok eltávolítása után', 'vp%/s')"
   ]
  },
  {
   "cell_type": "markdown",
   "id": "53d1c5d7",
   "metadata": {},
   "source": [
    "## 2.2. Átlag sebességek"
   ]
  },
  {
   "cell_type": "code",
   "execution_count": 9,
   "id": "1bd3ef63",
   "metadata": {},
   "outputs": [
    {
     "name": "stdout",
     "output_type": "stream",
     "text": [
      "Átlag sebességek (vp%/s)\n",
      "\n",
      "\tEmberek:\n",
      "\t\tmax: 109.18882183900601\n",
      "\t\tmin: 12.367064336982864\n",
      "\t\tmedián: 22.51958067818257\n",
      "\t\tkorrigált tapasztalati szórás: 14.168300408246651\n",
      "\t\tkvantilisek: [18.35254642 22.51958068 27.14351359]\n",
      "\t\tAz összes emberre számolt átlag sebesség: 24.906288409521697\n",
      "\t-----------------------------------------------------\n",
      "\tBotok:\n",
      "\t\tmax: 18.330122783799393\n",
      "\t\tmin: 15.454955733104539\n",
      "\t\tmedián: 16.970532743703224\n",
      "\t\tkorrigált tapasztalati szórás: 0.7532600977880484\n",
      "\t\tkvantilisek: [16.4941132  16.97053274 17.56920941]\n",
      "\t\tAz összes botra számolt átlag sebesség: 16.924566801661474\n"
     ]
    },
    {
     "data": {
      "image/png": "[encoded data removed]",
      "text/plain": [
       "<Figure size 720x288 with 2 Axes>"
      ]
     },
     "metadata": {
      "needs_background": "light"
     },
     "output_type": "display_data"
    }
   ],
   "source": [
    "avg_h_vels = [st.mean(human_vel) for human_vel in human_vels]\n",
    "avg_b_vels = [st.mean(bot_vel) for bot_vel in bot_vels]\n",
    "\n",
    "h_vel_num = 0\n",
    "avg_h_vel_all = 0\n",
    "for all_vels, avg_vel in zip(human_vels, avg_h_vels):\n",
    "    h_vel_num += len(all_vels)\n",
    "    avg_h_vel_all += avg_vel * len(all_vels)\n",
    "avg_h_vel_all /= h_vel_num\n",
    "\n",
    "b_vel_num = 0\n",
    "avg_b_vel_all = 0\n",
    "for all_vels, avg_vel in zip(bot_vels, avg_b_vels):\n",
    "    b_vel_num += len(all_vels)\n",
    "    avg_b_vel_all += avg_vel * len(all_vels)\n",
    "avg_b_vel_all /= b_vel_num\n",
    "    \n",
    "\n",
    "print_h_and_b(avg_h_vels, avg_b_vels, 'Átlag sebességek (vp%/s)', print_mean=False,\\\n",
    "            after_h=f'\\t\\tAz összes emberre számolt átlag sebesség: {avg_h_vel_all}',\\\n",
    "            after_b=f'\\t\\tAz összes botra számolt átlag sebesség: {avg_b_vel_all}')\n",
    "\n",
    "h_and_b_hist(avg_h_vels, avg_b_vels, 'Átlag sebesség hisztogramok', 'vp%/s')"
   ]
  },
  {
   "cell_type": "code",
   "execution_count": 10,
   "id": "8e18d038",
   "metadata": {},
   "outputs": [
    {
     "name": "stdout",
     "output_type": "stream",
     "text": [
      "Átlag sebességek a kiugró adatok eltávolítása után (vp%/s)\n",
      "\n",
      "\tEmberek:\n",
      "\t\teltávolított adatok száma: 1\n",
      "\t\tmax: 48.74005558062276\n",
      "\t\tmin: 12.367064336982864\n",
      "\t\tmedián: 22.384721006612132\n",
      "\t\tkorrigált tapasztalati szórás: 7.020927278775972\n",
      "\t\tkvantilisek: [18.27729728 22.38472101 26.80387133]\n",
      "\t\tAz összes emberre számolt átlag sebesség: 23.38975843437146\n",
      "\t-----------------------------------------------------\n",
      "\tBotok:\n",
      "\t\teltávolított adatok száma: 0\n",
      "\t\tmax: 18.330122783799393\n",
      "\t\tmin: 15.454955733104539\n",
      "\t\tmedián: 16.970532743703224\n",
      "\t\tkorrigált tapasztalati szórás: 0.7532600977880484\n",
      "\t\tkvantilisek: [16.4941132  16.97053274 17.56920941]\n",
      "\t\tAz összes botra számolt átlag sebesség: 16.924566801661474\n"
     ]
    },
    {
     "data": {
      "image/png": "[encoded data removed]",
      "text/plain": [
       "<Figure size 720x288 with 2 Axes>"
      ]
     },
     "metadata": {
      "needs_background": "light"
     },
     "output_type": "display_data"
    }
   ],
   "source": [
    "# átlag sebesség adatsorok kiugró értékeinek eltávolítása\n",
    "\n",
    "avg_h_vels_corr = [avg_vel for avg_vel in avg_h_vels if avg_vel < 60]\n",
    "avg_b_vels_corr = avg_b_vels\n",
    "\n",
    "h_vel_num = 0\n",
    "avg_h_vel_all_corr = 0\n",
    "for all_vels, avg_vel in zip(human_vels, avg_h_vels_corr):\n",
    "    h_vel_num += len(all_vels)\n",
    "    avg_h_vel_all_corr += avg_vel * len(all_vels)\n",
    "avg_h_vel_all_corr /= h_vel_num\n",
    "\n",
    "b_vel_num = 0\n",
    "avg_b_vel_all_corr = 0\n",
    "for all_vels, avg_vel in zip(bot_vels, avg_b_vels_corr):\n",
    "    b_vel_num += len(all_vels)\n",
    "    avg_b_vel_all_corr += avg_vel * len(all_vels)\n",
    "avg_b_vel_all_corr /= b_vel_num\n",
    "\n",
    "print_h_and_b(avg_h_vels_corr, avg_b_vels_corr, 'Átlag sebességek a kiugró adatok eltávolítása után (vp%/s)',\\\n",
    "            print_mean=False,\\\n",
    "            before_h=f'\\t\\teltávolított adatok száma: {len(avg_h_vels) - len(avg_h_vels_corr)}',\\\n",
    "            after_h=f'\\t\\tAz összes emberre számolt átlag sebesség: {avg_h_vel_all_corr}',\\\n",
    "            before_b=f'\\t\\teltávolított adatok száma: {len(avg_b_vels) - len(avg_b_vels_corr)}',\\\n",
    "            after_b=f'\\t\\tAz összes botra számolt átlag sebesség: {avg_b_vel_all_corr}')\n",
    "\n",
    "h_and_b_hist(avg_h_vels_corr, avg_b_vels_corr, 'Átlag sebesség hisztogramok a kiugró adatok eltávolítása után', 'vp%/s')"
   ]
  },
  {
   "cell_type": "markdown",
   "id": "a770bebd",
   "metadata": {},
   "source": [
    "# 3. Kattintások átlagos távolsága a gombok középpontjától"
   ]
  },
  {
   "cell_type": "code",
   "execution_count": 11,
   "id": "fb6f4385",
   "metadata": {},
   "outputs": [
    {
     "name": "stdout",
     "output_type": "stream",
     "text": [
      "A kattintások távolsága a gombok kp-jától (button%)\n",
      "\n",
      "\tEmberek:\n",
      "\t\tmax: 41.69173920996272\n",
      "\t\tmin: 20.0016045083712\n",
      "\t\tátlag: 29.617139669143125\n",
      "\t\tmedián: 29.021812913225197\n",
      "\t\tkorrigált tapasztalati szórás: 4.873027501154759\n",
      "\t\tkvantilisek: [25.81664134 29.02181291 32.94280046]\n",
      "\t-----------------------------------------------------\n",
      "\tBotok:\n",
      "\t\tmax: 49.28365261922938\n",
      "\t\tmin: 25.98185904537901\n",
      "\t\tátlag: 38.41293950196562\n",
      "\t\tmedián: 38.25682017654621\n",
      "\t\tkorrigált tapasztalati szórás: 3.8693572815598847\n",
      "\t\tkvantilisek: [35.8199497  38.25682018 41.06766342]\n"
     ]
    },
    {
     "data": {
      "image/png": "[encoded data removed]",
      "text/plain": [
       "<Figure size 720x288 with 2 Axes>"
      ]
     },
     "metadata": {
      "needs_background": "light"
     },
     "output_type": "display_data"
    }
   ],
   "source": [
    "dist_per_h = []\n",
    "for human in react_humans+bad_humans:\n",
    "    buttons_h = [button for button in human['data']['buttonData']]\n",
    "    buttondims_h = human['data']['buttonDimensions']\n",
    "\n",
    "    dist_per_click = []\n",
    "    for button in buttons_h:\n",
    "        center = {'x': button['buttonX'] + buttondims_h['width']/2, 'y': button['buttonY'] + buttondims_h['height']/2}\n",
    "        dist_per_click.append(calculate_distance({'x': button['click']['x'], 'y':button['click']['y']}, \\\n",
    "                                                 center, viewport=buttondims_h))\n",
    "    dist_per_h.append(st.mean(dist_per_click))\n",
    "    \n",
    "dist_per_b = []\n",
    "for bot in react_bots_48+react_bots_27:\n",
    "    buttons_b = [button for button in bot['data']['buttonData']]\n",
    "    buttondims_b = bot['data']['buttonDimensions']\n",
    "\n",
    "    dist_per_click = []\n",
    "    for button in buttons_b:\n",
    "        center = {'x': button['buttonX'] + buttondims_b['width']/2, 'y': button['buttonY'] + buttondims_b['height']/2}\n",
    "        dist_per_click.append(calculate_distance({'x': button['click']['x'], 'y':button['click']['y']}, \\\n",
    "                                                 center, viewport=buttondims_b))\n",
    "    dist_per_b.append(st.mean(dist_per_click))\n",
    "    \n",
    "print_h_and_b(dist_per_h, dist_per_b, 'A kattintások távolsága a gombok kp-jától (button%)')\n",
    "\n",
    "h_and_b_hist(dist_per_h, dist_per_b, 'A kattintások távolságának hisztogramja', 'button%')"
   ]
  },
  {
   "cell_type": "markdown",
   "id": "daf3a4ac",
   "metadata": {},
   "source": [
    "# 4. Mozgás gombok megjelenése között"
   ]
  },
  {
   "cell_type": "code",
   "execution_count": 12,
   "id": "67a52bca",
   "metadata": {},
   "outputs": [
    {
     "data": {
      "image/png": "[encoded data removed]",
      "text/plain": [
       "<Figure size 648x288 with 2 Axes>"
      ]
     },
     "metadata": {},
     "output_type": "display_data"
    }
   ],
   "source": [
    "num_of_motion_h = []\n",
    "for human in react_humans:\n",
    "    num_for_this = 0\n",
    "    buttons = human['data']['buttonData']\n",
    "    positions = human['data']['positions']\n",
    "    i = 0\n",
    "    intervals = []\n",
    "    while i < len(buttons) - 1:\n",
    "        intervals.append((int(buttons[i]['click']['time']/20), int(buttons[i+1]['appeared']/20)))\n",
    "        i += 1\n",
    "    for interval in intervals:\n",
    "        for vel in calculate_vel(positions[interval[0]:interval[1]], normed=False):\n",
    "            if vel != 0:\n",
    "                num_for_this += 1\n",
    "                break\n",
    "    num_of_motion_h.append(num_for_this)\n",
    "    \n",
    "counted_h = []\n",
    "for i in range(0, 10):\n",
    "    counted_h.append(num_of_motion_h.count(i))\n",
    "    \n",
    "num_of_motion_b = []\n",
    "for bot in react_bots_48:\n",
    "    num_for_this = 0\n",
    "    buttons = bot['data']['buttonData']\n",
    "    positions = bot['data']['positions']\n",
    "    i = 0\n",
    "    intervals = []\n",
    "    while i < len(buttons) - 1:\n",
    "        intervals.append((int(buttons[i]['click']['time']/20), int(buttons[i+1]['appeared']/20)))\n",
    "        i += 1\n",
    "    for interval in intervals:\n",
    "        for vel in calculate_vel(positions[interval[0]:interval[1]], normed=False):\n",
    "            if vel != 0:\n",
    "                num_for_this += 1\n",
    "                break\n",
    "    num_of_motion_b.append(num_for_this)\n",
    "    \n",
    "counted_b = []\n",
    "for i in range(0, 10):\n",
    "    counted_b.append(num_of_motion_b.count(i))\n",
    "    \n",
    "bot_labels = []\n",
    "i = 0\n",
    "while i < len(counted_b):\n",
    "    if counted_b[i] == 0:\n",
    "        counted_b.pop(i)\n",
    "    else:\n",
    "        bot_labels.append(str(i))\n",
    "        i += 1\n",
    "\n",
    "\n",
    "labels = ('0', '1', '2', '3', '4', '5', '6', '7', '8', '9')\n",
    "fig, (ax1, ax2) = plt.subplots(1, 2)\n",
    "fig.set_size_inches(9, 4)\n",
    "fig.suptitle('Hány alkalommal mozgott a gombok megjelenése között')\n",
    "ax1.pie(counted_h,labels=labels, startangle=90, autopct='%1.1f%%')\n",
    "ax1.set_xlabel('Emberek')\n",
    "ax2.pie(counted_b,labels=bot_labels, startangle=90, autopct='%1.1f%%')\n",
    "ax2.set_xlabel('Botok')\n",
    "None"
   ]
  },
  {
   "cell_type": "markdown",
   "id": "1068e4a9",
   "metadata": {},
   "source": [
    "# 5. Reakcióidő"
   ]
  },
  {
   "cell_type": "code",
   "execution_count": 13,
   "id": "ce703cee",
   "metadata": {},
   "outputs": [
    {
     "name": "stdout",
     "output_type": "stream",
     "text": [
      "A reakcióidők (ms)\n",
      "\n",
      "\tEmberek:\n",
      "\t\tmax: 708\n",
      "\t\tmin: 250\n",
      "\t\tátlag: 400.0425531914894\n",
      "\t\tmedián: 380.0\n",
      "\t\tkorrigált tapasztalati szórás: 106.4579846591477\n",
      "\t\tkvantilisek: [331. 380. 455.]\n",
      "\t-----------------------------------------------------\n",
      "\tBotok:\n",
      "\t\tmax: 346\n",
      "\t\tmin: 210\n",
      "\t\tátlag: 255.5744680851064\n",
      "\t\tmedián: 256.0\n",
      "\t\tkorrigált tapasztalati szórás: 36.59397947682168\n",
      "\t\tkvantilisek: [224. 256. 277.]\n"
     ]
    },
    {
     "data": {
      "image/png": "[encoded data removed]",
      "text/plain": [
       "<Figure size 720x288 with 2 Axes>"
      ]
     },
     "metadata": {
      "needs_background": "light"
     },
     "output_type": "display_data"
    }
   ],
   "source": [
    "all_reaction_h = []\n",
    "for human in react_humans:\n",
    "    if human['id'] != '70':  # folyamatosan mozgatta a kurzort\n",
    "        this_reaction = []\n",
    "        buttons = human['data']['buttonData']\n",
    "        positions = human['data']['positions']\n",
    "        appear_times = [button['appeared'] for button in buttons]\n",
    "        intervals = [(int(button['appeared']/20), int(button['click']['time']/20)) for button in buttons]\n",
    "        vel_per_interval = [calculate_vel(positions[interval[0]:interval[1]], normed=False) for interval in intervals]\n",
    "        for this_inter_vel in vel_per_interval:\n",
    "            i = 7  # 150 ms körül van a legkisebb lehetséges reakcióidő\n",
    "            while i < len(this_inter_vel):\n",
    "                if this_inter_vel[i] > max(this_inter_vel)*0.1:\n",
    "                    this_reaction.append(i*20)\n",
    "                    break\n",
    "                i += 1\n",
    "        all_reaction_h.append(this_reaction)\n",
    "avg_reaction_h = [st.mean(this_react) for this_react in all_reaction_h]\n",
    "\n",
    "all_reaction_b = []\n",
    "for bot in react_bots_48[:-1]:  # hogy ugyanannyi adatot ábrázoljunk\n",
    "    this_reaction = []\n",
    "    buttons = bot['data']['buttonData']\n",
    "    positions = bot['data']['positions']\n",
    "    appear_times = [button['appeared'] for button in buttons]\n",
    "    intervals = [(int(button['appeared']/20), int(button['click']['time']/20)) for button in buttons]\n",
    "    vel_per_interval = [calculate_vel(positions[interval[0]:interval[1]], normed=False) for interval in intervals]\n",
    "    for this_inter_vel in vel_per_interval:\n",
    "        i = 0  # itt mindegy a minimum, mert úgysem mozog a gomb megjelenése előtt\n",
    "        while i < len(this_inter_vel):\n",
    "            if this_inter_vel[i] > min(this_inter_vel):  # a sebességben is mindegy a minimum\n",
    "                this_reaction.append(i*20)\n",
    "                break\n",
    "            i += 1\n",
    "    all_reaction_b.append(this_reaction)\n",
    "avg_reaction_b = [st.mean(this_react) for this_react in all_reaction_b]\n",
    "\n",
    "print_h_and_b(avg_reaction_h, avg_reaction_b, 'A reakcióidők (ms)')\n",
    "\n",
    "h_and_b_hist(avg_reaction_h, avg_reaction_b, 'A reakcióidők hisztogramja', 'ms')"
   ]
  },
  {
   "cell_type": "code",
   "execution_count": 14,
   "id": "7c1bf871",
   "metadata": {},
   "outputs": [
    {
     "name": "stdout",
     "output_type": "stream",
     "text": [
      "A reakcióidők a kiugró adatok eltávolítása után (ms)\n",
      "\n",
      "\tEmberek:\n",
      "\t\teltávolított adatok száma: 2\n",
      "\t\tmax: 596\n",
      "\t\tmin: 250\n",
      "\t\tátlag: 387.1111111111111\n",
      "\t\tmedián: 376.0\n",
      "\t\tkorrigált tapasztalati szórás: 88.40974396684354\n",
      "\t\tkvantilisek: [326. 376. 428.]\n",
      "\t-----------------------------------------------------\n",
      "\tBotok:\n",
      "\n",
      "\t\tmax: 316\n",
      "\t\tmin: 210\n",
      "\t\tátlag: 250.04545454545453\n",
      "\t\tmedián: 249.0\n",
      "\t\tkorrigált tapasztalati szórás: 30.622954261396146\n",
      "\t\tkvantilisek: [222.  249.  266.5]\n"
     ]
    },
    {
     "data": {
      "image/png": "[encoded data removed]",
      "text/plain": [
       "<Figure size 720x288 with 2 Axes>"
      ]
     },
     "metadata": {
      "needs_background": "light"
     },
     "output_type": "display_data"
    }
   ],
   "source": [
    "# reakcióidőkből a kiugró adatok eltávolítása\n",
    "\n",
    "avg_react_h_corr = [this_avg for this_avg in avg_reaction_h if this_avg < 650]\n",
    "avg_react_b_corr = [this_avg for this_avg in avg_reaction_b if this_avg < 320]\n",
    "\n",
    "print_h_and_b(avg_react_h_corr, avg_react_b_corr, 'A reakcióidők a kiugró adatok eltávolítása után (ms)', \\\n",
    "             before_h=f'\\t\\teltávolított adatok száma: {len(avg_reaction_h) - len(avg_react_h_corr)}')\n",
    "\n",
    "h_and_b_hist(avg_react_h_corr, avg_react_b_corr, 'A reakcióidők hisztogramja a kiugró adatok eltávolítása után', 'ms')"
   ]
  },
  {
   "cell_type": "markdown",
   "id": "1016e2ec",
   "metadata": {},
   "source": [
    "# 6. Finompozicionálás"
   ]
  },
  {
   "cell_type": "code",
   "execution_count": 15,
   "id": "7d944b92",
   "metadata": {},
   "outputs": [
    {
     "name": "stdout",
     "output_type": "stream",
     "text": [
      "A finompozicionálás ideje (ms)\n",
      "\n",
      "\tEmberek:\n",
      "\t\tmax: 1442\n",
      "\t\tmin: 294\n",
      "\t\tátlag: 613.5416666666666\n",
      "\t\tmedián: 546.0\n",
      "\t\tkorrigált tapasztalati szórás: 227.13956327701644\n",
      "\t\tkvantilisek: [487. 546. 655.]\n",
      "\t-----------------------------------------------------\n",
      "\tBotok:\n",
      "\t\tmax: 556\n",
      "\t\tmin: 198\n",
      "\t\tátlag: 397.4166666666667\n",
      "\t\tmedián: 407.0\n",
      "\t\tkorrigált tapasztalati szórás: 87.85186597113308\n",
      "\t\tkvantilisek: [327.  407.  466.5]\n"
     ]
    },
    {
     "data": {
      "image/png": "[encoded data removed]",
      "text/plain": [
       "<Figure size 720x288 with 2 Axes>"
      ]
     },
     "metadata": {
      "needs_background": "light"
     },
     "output_type": "display_data"
    }
   ],
   "source": [
    "avg_fine_per_h = []\n",
    "for human in react_humans:\n",
    "    buttondim = human['data']['buttonDimensions']\n",
    "    buttons = human['data']['buttonData']\n",
    "    positions = human['data']['positions']\n",
    "    this_h_fine = []\n",
    "    for button in buttons:\n",
    "        appear_time = button['appeared']\n",
    "        click_time = button['click']['time']\n",
    "        area = {\n",
    "            'xl': button['buttonX'] - 2 * buttondim['height'],\n",
    "            'xu': button['buttonX'] + buttondim['width'] + 2 * buttondim['height'],\n",
    "            'yl': button['buttonY'] - 2 * buttondim['height'],\n",
    "            'yu': button['buttonY'] + buttondim['height'] + 2 * buttondim['height']\n",
    "        }\n",
    "        pos_num = 0\n",
    "        for pos in positions[int(appear_time/20):int(click_time/20)]:\n",
    "            if (area['xl'] <= pos['x'] <= area['xu']) and (area['yl'] <= pos['y'] <= area['yu']):\n",
    "                pos_num += 1\n",
    "        this_h_fine.append((pos_num - 1) * 20)\n",
    "    avg_fine_per_h.append(st.mean(this_h_fine))\n",
    "    \n",
    "avg_fine_per_b = []\n",
    "for bot in react_bots_48:\n",
    "    buttondim = bot['data']['buttonDimensions']\n",
    "    buttons = bot['data']['buttonData']\n",
    "    positions = bot['data']['positions']\n",
    "    this_b_fine = []\n",
    "    for button in buttons:\n",
    "        appear_time = button['appeared']\n",
    "        click_time = button['click']['time']\n",
    "        area = {\n",
    "            'xl': button['buttonX'] - 2 * buttondim['height'],\n",
    "            'xu': button['buttonX'] + buttondim['width'] + 2 * buttondim['height'],\n",
    "            'yl': button['buttonY'] - 2 * buttondim['height'],\n",
    "            'yu': button['buttonY'] + buttondim['height'] + 2 * buttondim['height']\n",
    "        }\n",
    "        pos_num = 0\n",
    "        for pos in positions[int(appear_time/20):int(click_time/20)]:\n",
    "            if (area['xl'] <= pos['x'] <= area['xu']) and (area['yl'] <= pos['y'] <= area['yu']):\n",
    "                pos_num += 1\n",
    "        this_b_fine.append((pos_num - 1) * 20)\n",
    "    avg_fine_per_b.append(st.mean(this_b_fine))\n",
    "    \n",
    "print_h_and_b(avg_fine_per_h, avg_fine_per_b, 'A finompozicionálás ideje (ms)')\n",
    "\n",
    "h_and_b_hist(avg_fine_per_h, avg_fine_per_b, 'A finompozicionálási idők hisztogramja', 'ms')"
   ]
  },
  {
   "cell_type": "code",
   "execution_count": 16,
   "id": "40165b32",
   "metadata": {},
   "outputs": [
    {
     "name": "stdout",
     "output_type": "stream",
     "text": [
      "A finompozicionálás ideje a kiugró adatok eltávolítása után (ms)\n",
      "\n",
      "\tEmberek:\n",
      "\t\teltávolított adatok száma: 3\n",
      "\t\tmax: 922\n",
      "\t\tmin: 294\n",
      "\t\tátlag: 566.9777777777778\n",
      "\t\tmedián: 546.0\n",
      "\t\tkorrigált tapasztalati szórás: 135.68588204326412\n",
      "\t\tkvantilisek: [484. 546. 608.]\n",
      "\t-----------------------------------------------------\n",
      "\tBotok:\n",
      "\t\teltávolított adatok száma: 0\n",
      "\t\tmax: 556\n",
      "\t\tmin: 198\n",
      "\t\tátlag: 397.4166666666667\n",
      "\t\tmedián: 407.0\n",
      "\t\tkorrigált tapasztalati szórás: 87.85186597113308\n",
      "\t\tkvantilisek: [327.  407.  466.5]\n"
     ]
    },
    {
     "data": {
      "image/png": "[encoded data removed]",
      "text/plain": [
       "<Figure size 720x288 with 2 Axes>"
      ]
     },
     "metadata": {
      "needs_background": "light"
     },
     "output_type": "display_data"
    }
   ],
   "source": [
    "# finompozicionálási időkből a kiugró adatok eltávolítása\n",
    "\n",
    "avg_fine_per_h_corr = [this_fine for this_fine in avg_fine_per_h if this_fine < 1000]\n",
    "avg_fine_per_b_corr = avg_fine_per_b\n",
    "\n",
    "print_h_and_b(avg_fine_per_h_corr, avg_fine_per_b_corr, 'A finompozicionálás ideje a kiugró adatok eltávolítása után (ms)', \\\n",
    "             before_h=f'\\t\\teltávolított adatok száma: {len(avg_fine_per_h) - len(avg_fine_per_h_corr)}', \\\n",
    "             before_b=f'\\t\\teltávolított adatok száma: {len(avg_fine_per_b) - len(avg_fine_per_b_corr)}')\n",
    "\n",
    "h_and_b_hist(avg_fine_per_h_corr, avg_fine_per_b_corr, 'A finompozicionálási idők hisztogramja a kiugró adatok eltávolítása után', 'ms')"
   ]
  },
  {
   "cell_type": "markdown",
   "id": "a110abb6",
   "metadata": {},
   "source": [
    "# 5. Egyéb grafikus ábrázolások"
   ]
  },
  {
   "cell_type": "code",
   "execution_count": 17,
   "id": "03657fb5",
   "metadata": {},
   "outputs": [],
   "source": [
    "def plot_vel(to_plot):\n",
    "    time = [idx*0.02 for idx, pos in enumerate(to_plot['data']['positions'])][:-1]\n",
    "    plt.plot(time, calculate_vel(to_plot['data']['positions'], viewport=to_plot['data']['viewport']))\n",
    "    plt.xlabel('idő (s)')\n",
    "    plt.ylabel('sebesség (vp%/s)')"
   ]
  }
 ],
 "metadata": {
  "kernelspec": {
   "display_name": "Python 3",
   "language": "python",
   "name": "python3"
  },
  "language_info": {
   "codemirror_mode": {
    "name": "ipython",
    "version": 3
   },
   "file_extension": ".py",
   "mimetype": "text/x-python",
   "name": "python",
   "nbconvert_exporter": "python",
   "pygments_lexer": "ipython3",
   "version": "3.8.8"
  }
 },
 "nbformat": 4,
 "nbformat_minor": 5
}
